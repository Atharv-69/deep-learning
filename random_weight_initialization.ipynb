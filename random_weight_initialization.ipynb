{
 "cells": [
  {
   "cell_type": "code",
   "execution_count": 2,
   "metadata": {},
   "outputs": [],
   "source": [
    "import pandas as pd \n",
    "import numpy as np "
   ]
  },
  {
   "cell_type": "code",
   "execution_count": 3,
   "metadata": {},
   "outputs": [],
   "source": [
    "import tensorflow \n",
    "from tensorflow import keras \n",
    "from tensorflow.keras import Sequential\n",
    "from keras.layers import Dense"
   ]
  },
  {
   "cell_type": "code",
   "execution_count": 4,
   "metadata": {},
   "outputs": [],
   "source": [
    "from sklearn.datasets import make_moons"
   ]
  },
  {
   "cell_type": "code",
   "execution_count": 5,
   "metadata": {},
   "outputs": [],
   "source": [
    "x,y = make_moons(n_samples=1000,noise=0.2,random_state=1)"
   ]
  },
  {
   "cell_type": "code",
   "execution_count": 8,
   "metadata": {},
   "outputs": [],
   "source": [
    "import matplotlib.pyplot as plt"
   ]
  },
  {
   "cell_type": "code",
   "execution_count": 9,
   "metadata": {},
   "outputs": [
    {
     "name": "stderr",
     "output_type": "stream",
     "text": [
      "d:\\python\\Lib\\site-packages\\keras\\src\\layers\\core\\dense.py:87: UserWarning: Do not pass an `input_shape`/`input_dim` argument to a layer. When using Sequential models, prefer using an `Input(shape)` object as the first layer in the model instead.\n",
      "  super().__init__(activity_regularizer=activity_regularizer, **kwargs)\n"
     ]
    },
    {
     "data": {
      "text/html": [
       "<pre style=\"white-space:pre;overflow-x:auto;line-height:normal;font-family:Menlo,'DejaVu Sans Mono',consolas,'Courier New',monospace\"><span style=\"font-weight: bold\">Model: \"sequential\"</span>\n",
       "</pre>\n"
      ],
      "text/plain": [
       "\u001b[1mModel: \"sequential\"\u001b[0m\n"
      ]
     },
     "metadata": {},
     "output_type": "display_data"
    },
    {
     "data": {
      "text/html": [
       "<pre style=\"white-space:pre;overflow-x:auto;line-height:normal;font-family:Menlo,'DejaVu Sans Mono',consolas,'Courier New',monospace\">┏━━━━━━━━━━━━━━━━━━━━━━━━━━━━━━━━━┳━━━━━━━━━━━━━━━━━━━━━━━━┳━━━━━━━━━━━━━━━┓\n",
       "┃<span style=\"font-weight: bold\"> Layer (type)                    </span>┃<span style=\"font-weight: bold\"> Output Shape           </span>┃<span style=\"font-weight: bold\">       Param # </span>┃\n",
       "┡━━━━━━━━━━━━━━━━━━━━━━━━━━━━━━━━━╇━━━━━━━━━━━━━━━━━━━━━━━━╇━━━━━━━━━━━━━━━┩\n",
       "│ dense (<span style=\"color: #0087ff; text-decoration-color: #0087ff\">Dense</span>)                   │ (<span style=\"color: #00d7ff; text-decoration-color: #00d7ff\">None</span>, <span style=\"color: #00af00; text-decoration-color: #00af00\">10</span>)             │            <span style=\"color: #00af00; text-decoration-color: #00af00\">30</span> │\n",
       "├─────────────────────────────────┼────────────────────────┼───────────────┤\n",
       "│ dense_1 (<span style=\"color: #0087ff; text-decoration-color: #0087ff\">Dense</span>)                 │ (<span style=\"color: #00d7ff; text-decoration-color: #00d7ff\">None</span>, <span style=\"color: #00af00; text-decoration-color: #00af00\">10</span>)             │           <span style=\"color: #00af00; text-decoration-color: #00af00\">110</span> │\n",
       "├─────────────────────────────────┼────────────────────────┼───────────────┤\n",
       "│ dense_2 (<span style=\"color: #0087ff; text-decoration-color: #0087ff\">Dense</span>)                 │ (<span style=\"color: #00d7ff; text-decoration-color: #00d7ff\">None</span>, <span style=\"color: #00af00; text-decoration-color: #00af00\">10</span>)             │           <span style=\"color: #00af00; text-decoration-color: #00af00\">110</span> │\n",
       "├─────────────────────────────────┼────────────────────────┼───────────────┤\n",
       "│ dense_3 (<span style=\"color: #0087ff; text-decoration-color: #0087ff\">Dense</span>)                 │ (<span style=\"color: #00d7ff; text-decoration-color: #00d7ff\">None</span>, <span style=\"color: #00af00; text-decoration-color: #00af00\">10</span>)             │           <span style=\"color: #00af00; text-decoration-color: #00af00\">110</span> │\n",
       "├─────────────────────────────────┼────────────────────────┼───────────────┤\n",
       "│ dense_4 (<span style=\"color: #0087ff; text-decoration-color: #0087ff\">Dense</span>)                 │ (<span style=\"color: #00d7ff; text-decoration-color: #00d7ff\">None</span>, <span style=\"color: #00af00; text-decoration-color: #00af00\">1</span>)              │            <span style=\"color: #00af00; text-decoration-color: #00af00\">11</span> │\n",
       "└─────────────────────────────────┴────────────────────────┴───────────────┘\n",
       "</pre>\n"
      ],
      "text/plain": [
       "┏━━━━━━━━━━━━━━━━━━━━━━━━━━━━━━━━━┳━━━━━━━━━━━━━━━━━━━━━━━━┳━━━━━━━━━━━━━━━┓\n",
       "┃\u001b[1m \u001b[0m\u001b[1mLayer (type)                   \u001b[0m\u001b[1m \u001b[0m┃\u001b[1m \u001b[0m\u001b[1mOutput Shape          \u001b[0m\u001b[1m \u001b[0m┃\u001b[1m \u001b[0m\u001b[1m      Param #\u001b[0m\u001b[1m \u001b[0m┃\n",
       "┡━━━━━━━━━━━━━━━━━━━━━━━━━━━━━━━━━╇━━━━━━━━━━━━━━━━━━━━━━━━╇━━━━━━━━━━━━━━━┩\n",
       "│ dense (\u001b[38;5;33mDense\u001b[0m)                   │ (\u001b[38;5;45mNone\u001b[0m, \u001b[38;5;34m10\u001b[0m)             │            \u001b[38;5;34m30\u001b[0m │\n",
       "├─────────────────────────────────┼────────────────────────┼───────────────┤\n",
       "│ dense_1 (\u001b[38;5;33mDense\u001b[0m)                 │ (\u001b[38;5;45mNone\u001b[0m, \u001b[38;5;34m10\u001b[0m)             │           \u001b[38;5;34m110\u001b[0m │\n",
       "├─────────────────────────────────┼────────────────────────┼───────────────┤\n",
       "│ dense_2 (\u001b[38;5;33mDense\u001b[0m)                 │ (\u001b[38;5;45mNone\u001b[0m, \u001b[38;5;34m10\u001b[0m)             │           \u001b[38;5;34m110\u001b[0m │\n",
       "├─────────────────────────────────┼────────────────────────┼───────────────┤\n",
       "│ dense_3 (\u001b[38;5;33mDense\u001b[0m)                 │ (\u001b[38;5;45mNone\u001b[0m, \u001b[38;5;34m10\u001b[0m)             │           \u001b[38;5;34m110\u001b[0m │\n",
       "├─────────────────────────────────┼────────────────────────┼───────────────┤\n",
       "│ dense_4 (\u001b[38;5;33mDense\u001b[0m)                 │ (\u001b[38;5;45mNone\u001b[0m, \u001b[38;5;34m1\u001b[0m)              │            \u001b[38;5;34m11\u001b[0m │\n",
       "└─────────────────────────────────┴────────────────────────┴───────────────┘\n"
      ]
     },
     "metadata": {},
     "output_type": "display_data"
    },
    {
     "data": {
      "text/html": [
       "<pre style=\"white-space:pre;overflow-x:auto;line-height:normal;font-family:Menlo,'DejaVu Sans Mono',consolas,'Courier New',monospace\"><span style=\"font-weight: bold\"> Total params: </span><span style=\"color: #00af00; text-decoration-color: #00af00\">371</span> (1.45 KB)\n",
       "</pre>\n"
      ],
      "text/plain": [
       "\u001b[1m Total params: \u001b[0m\u001b[38;5;34m371\u001b[0m (1.45 KB)\n"
      ]
     },
     "metadata": {},
     "output_type": "display_data"
    },
    {
     "data": {
      "text/html": [
       "<pre style=\"white-space:pre;overflow-x:auto;line-height:normal;font-family:Menlo,'DejaVu Sans Mono',consolas,'Courier New',monospace\"><span style=\"font-weight: bold\"> Trainable params: </span><span style=\"color: #00af00; text-decoration-color: #00af00\">371</span> (1.45 KB)\n",
       "</pre>\n"
      ],
      "text/plain": [
       "\u001b[1m Trainable params: \u001b[0m\u001b[38;5;34m371\u001b[0m (1.45 KB)\n"
      ]
     },
     "metadata": {},
     "output_type": "display_data"
    },
    {
     "data": {
      "text/html": [
       "<pre style=\"white-space:pre;overflow-x:auto;line-height:normal;font-family:Menlo,'DejaVu Sans Mono',consolas,'Courier New',monospace\"><span style=\"font-weight: bold\"> Non-trainable params: </span><span style=\"color: #00af00; text-decoration-color: #00af00\">0</span> (0.00 B)\n",
       "</pre>\n"
      ],
      "text/plain": [
       "\u001b[1m Non-trainable params: \u001b[0m\u001b[38;5;34m0\u001b[0m (0.00 B)\n"
      ]
     },
     "metadata": {},
     "output_type": "display_data"
    }
   ],
   "source": [
    "model = Sequential()\n",
    "\n",
    "model.add(Dense(10,activation='relu',input_dim=2,kernel_initializer='he_normal'))\n",
    "model.add(Dense(10,activation='relu',kernel_initializer='he_normal'))\n",
    "model.add(Dense(10,activation='relu',kernel_initializer='he_normal'))\n",
    "model.add(Dense(10,activation='relu',kernel_initializer='he_normal'))\n",
    "model.add(Dense(1,activation='sigmoid'))\n",
    "\n",
    "model.summary()"
   ]
  },
  {
   "cell_type": "code",
   "execution_count": 10,
   "metadata": {},
   "outputs": [
    {
     "data": {
      "text/plain": [
       "[array([[-2.2087784 , -1.1663187 ,  0.9062035 ,  1.7558537 ,  0.22032206,\n",
       "         -0.6037925 , -0.37437707, -0.43964532,  1.0872902 , -0.61933637],\n",
       "        [-0.4440666 ,  0.6481139 , -1.0773691 , -0.0056747 ,  0.6034438 ,\n",
       "         -1.5791464 ,  0.80059946,  0.3652306 , -1.5672791 ,  0.9443207 ]],\n",
       "       dtype=float32),\n",
       " array([0., 0., 0., 0., 0., 0., 0., 0., 0., 0.], dtype=float32),\n",
       " array([[-0.2942383 ,  0.256422  ,  0.18718685,  0.5305223 , -0.14370047,\n",
       "          0.5891626 , -0.06163048, -0.3074155 ,  0.32264286, -0.2821314 ],\n",
       "        [-0.40179384, -0.5367217 , -0.83025193, -0.30349854, -0.1252985 ,\n",
       "         -0.14073491, -0.49484342, -0.5154164 ,  0.4034031 , -0.3662385 ],\n",
       "        [-0.08006775, -0.24172518, -0.21959668, -0.467374  , -0.08292491,\n",
       "          0.7356015 , -0.10815257, -0.55808026,  0.14669953, -0.3001581 ],\n",
       "        [ 0.08801114, -0.23580651, -0.5588556 ,  0.39970943, -0.5878775 ,\n",
       "          0.6234889 , -0.30239743, -0.5750118 , -0.41262102,  0.14534621],\n",
       "        [ 0.27048093,  0.03231777, -0.19479555, -0.01132705,  0.10887694,\n",
       "          0.37513164,  0.8092794 ,  0.03005151, -0.1488853 ,  0.06611055],\n",
       "        [-0.24520354,  0.6553414 , -0.53958535, -0.40800795,  0.6924869 ,\n",
       "         -0.32509553,  0.2619291 , -0.16736363,  0.17733622,  0.04854498],\n",
       "        [-0.05522953,  0.0568726 , -0.18173638, -0.40474498, -0.3207378 ,\n",
       "          0.17857343,  0.85908806, -0.49752772,  0.34263492,  0.06054548],\n",
       "        [-0.28261858,  0.9639207 ,  0.4300293 ,  0.37820822,  0.26233262,\n",
       "         -0.14264758, -0.96022403, -0.3355248 ,  0.05486504, -0.54459006],\n",
       "        [-0.83989304, -0.48554102,  0.37043595,  0.05414703,  0.14421266,\n",
       "         -0.36909786, -0.10271262, -0.22606957, -0.36704388, -0.31650108],\n",
       "        [-0.5474228 , -0.65155953,  0.11149792, -0.18366244, -0.13651137,\n",
       "         -0.47428277,  0.12033321,  0.24313244, -0.6438384 ,  0.3086918 ]],\n",
       "       dtype=float32),\n",
       " array([0., 0., 0., 0., 0., 0., 0., 0., 0., 0.], dtype=float32),\n",
       " array([[ 0.2630084 , -0.38287258,  0.01654016, -0.22663978,  0.11770682,\n",
       "         -0.21357694,  0.6252125 ,  0.05033416,  0.50000846,  0.06682522],\n",
       "        [-0.4171915 ,  0.7043403 , -0.5753554 , -0.11077064,  0.17101805,\n",
       "          0.31284934,  0.7579922 ,  0.20036735,  0.16376574, -0.60312545],\n",
       "        [-0.02351326,  0.10904642, -0.75339943, -0.04821866, -0.06796286,\n",
       "         -0.11424481,  0.5666895 ,  0.45760238, -0.60417396, -0.20348448],\n",
       "        [ 0.53735435, -0.96670765, -0.33189026, -0.01469035, -0.45761815,\n",
       "         -0.0481794 , -0.3524602 , -0.18947282, -0.28016955, -0.34068504],\n",
       "        [-0.31309333, -0.46810734,  0.370546  ,  0.4050323 , -0.35499325,\n",
       "          0.40184996,  0.19578591, -0.23502678, -0.49094853, -0.51811713],\n",
       "        [-0.18889059,  0.37515494, -0.877222  , -0.4497881 ,  0.8490388 ,\n",
       "         -0.92329335, -0.09822349,  0.5082431 ,  0.3588667 , -0.15636396],\n",
       "        [ 0.03506177, -0.2608395 ,  0.45877412,  0.5107398 , -0.23244028,\n",
       "         -0.84141654,  0.3129113 , -0.15629825, -0.7796193 , -0.28897333],\n",
       "        [ 0.41632062,  0.07182065, -0.30518287, -0.09608372, -0.3315462 ,\n",
       "          0.02742688,  0.10474424,  0.24534483,  0.13419601,  0.26292333],\n",
       "        [-0.1917008 , -0.5882898 ,  0.3341062 ,  0.36703452,  0.45830753,\n",
       "         -0.9340362 ,  0.11098889,  0.12792563, -0.6806039 , -0.15107061],\n",
       "        [ 0.1872696 , -0.6598958 ,  0.60612893, -0.2787998 ,  0.393655  ,\n",
       "         -0.12921591,  0.453314  , -0.0680532 , -0.6157956 , -0.3070615 ]],\n",
       "       dtype=float32),\n",
       " array([0., 0., 0., 0., 0., 0., 0., 0., 0., 0.], dtype=float32),\n",
       " array([[ 0.14018731,  0.6108948 , -0.14162867, -0.5414391 ,  0.29910296,\n",
       "          0.8140463 , -0.45014212,  0.0414472 ,  0.6923025 , -0.6234958 ],\n",
       "        [ 0.20811802,  0.4049732 ,  0.31162584, -0.45242694, -0.26295197,\n",
       "         -0.49564752,  0.11498149,  0.7241117 , -0.5965362 , -0.76638746],\n",
       "        [ 0.73168415, -0.36810455,  0.55235475,  0.28790876,  0.31094456,\n",
       "         -0.88320285,  0.896046  ,  0.16717443, -0.12995155,  0.60315   ],\n",
       "        [ 0.17522915, -0.25375044, -0.9434239 , -0.57886845, -0.31968817,\n",
       "          0.3489175 , -0.9290729 , -0.46379653, -0.03288079, -0.93917364],\n",
       "        [-0.11933009,  0.7516765 , -0.04510608, -0.8869353 , -0.89585847,\n",
       "          0.08059604, -0.16420676,  0.23566456, -0.24771076,  0.95157635],\n",
       "        [-0.08648637, -0.12431909,  0.31608677, -0.15072551,  0.09838846,\n",
       "         -0.14833261,  0.45900446,  0.507784  , -0.66043913,  0.5724679 ],\n",
       "        [ 0.44058135,  0.10525229,  0.33866677, -0.00441351, -0.45063576,\n",
       "         -0.09993565,  0.769631  , -0.05622598,  0.07905032, -0.41241625],\n",
       "        [-0.08302561,  0.5970071 , -0.25792572,  0.53062737, -0.25548613,\n",
       "          0.514955  , -0.44152138, -0.5946587 , -0.05398539, -0.3895624 ],\n",
       "        [ 0.22434543, -0.7871609 , -0.22037268, -0.32377264, -0.7234562 ,\n",
       "         -0.31181264, -0.77174056,  0.7096178 ,  0.40779907, -0.32051942],\n",
       "        [-0.36998382, -0.10323583, -0.91227657,  0.5298062 , -0.46401897,\n",
       "          0.08971977,  0.74047416, -0.30158788, -0.31545204,  0.263181  ]],\n",
       "       dtype=float32),\n",
       " array([0., 0., 0., 0., 0., 0., 0., 0., 0., 0.], dtype=float32),\n",
       " array([[ 0.13700533],\n",
       "        [ 0.35109824],\n",
       "        [-0.30218583],\n",
       "        [-0.5936793 ],\n",
       "        [ 0.25682348],\n",
       "        [ 0.5711464 ],\n",
       "        [ 0.55712193],\n",
       "        [ 0.21066684],\n",
       "        [-0.42438498],\n",
       "        [-0.6471322 ]], dtype=float32),\n",
       " array([0.], dtype=float32)]"
      ]
     },
     "execution_count": 10,
     "metadata": {},
     "output_type": "execute_result"
    }
   ],
   "source": [
    "model.get_weights()"
   ]
  },
  {
   "cell_type": "code",
   "execution_count": 11,
   "metadata": {},
   "outputs": [],
   "source": [
    "initial_weights = model.get_weights()"
   ]
  },
  {
   "cell_type": "code",
   "execution_count": 12,
   "metadata": {},
   "outputs": [],
   "source": [
    "initial_weights[0] = np.random.randn(2,10)*np.sqrt(1/2)\n",
    "initial_weights[1] = np.zeros(model.get_weights()[1].shape)\n",
    "initial_weights[2] = np.random.randn(10,10)*np.sqrt(1/10)\n",
    "initial_weights[3] = np.zeros(model.get_weights()[3].shape)\n",
    "initial_weights[4] = np.random.randn(10,10)*np.sqrt(1/10)\n",
    "initial_weights[5] = np.zeros(model.get_weights()[5].shape)\n",
    "initial_weights[6] = np.random.randn(10,10)*np.sqrt(1/10)\n",
    "initial_weights[7] = np.zeros(model.get_weights()[7].shape)\n",
    "initial_weights[8] = np.random.randn(10,1)*np.sqrt(1/10)\n",
    "initial_weights[9] = np.zeros(model.get_weights()[9].shape)"
   ]
  },
  {
   "cell_type": "code",
   "execution_count": 13,
   "metadata": {},
   "outputs": [],
   "source": [
    "model.set_weights(initial_weights)"
   ]
  },
  {
   "cell_type": "code",
   "execution_count": 14,
   "metadata": {},
   "outputs": [
    {
     "data": {
      "text/plain": [
       "[array([[ 0.34048823,  0.5059627 ,  0.13146998,  1.0265312 , -1.4004725 ,\n",
       "          0.4909398 , -0.91181827, -0.504488  , -0.14488629, -0.02194802],\n",
       "        [ 1.3369979 ,  0.37393   ,  0.05810617, -0.6977621 , -0.27512643,\n",
       "         -0.27828223,  0.8929842 ,  0.24699588,  0.6373883 ,  0.21049589]],\n",
       "       dtype=float32),\n",
       " array([0., 0., 0., 0., 0., 0., 0., 0., 0., 0.], dtype=float32),\n",
       " array([[-0.15828875,  0.08814102, -0.34980872,  0.5272808 , -0.0096075 ,\n",
       "         -0.17149103, -0.15401554,  0.28075215,  0.06521475, -0.08742715],\n",
       "        [ 0.18210164,  0.11927629,  0.36203116,  0.11805084,  0.19362351,\n",
       "          0.47372752, -0.5642144 , -0.08339018, -0.69395536, -0.20808472],\n",
       "        [ 0.08864739, -0.08398373, -0.00441445,  0.5487546 , -0.3679137 ,\n",
       "         -0.03639401,  0.6270438 ,  0.1509915 ,  0.03994399,  0.1296054 ],\n",
       "        [ 0.03279491, -0.09858412, -0.41381043,  0.01243008, -0.15826024,\n",
       "         -0.05162259, -0.21823566, -0.47271585, -0.15598153, -0.05974094],\n",
       "        [ 0.11715801,  0.20396374, -0.2571268 ,  0.01417929,  0.0301953 ,\n",
       "          0.17977662,  0.25377607, -0.42908573,  0.17415985, -0.08855508],\n",
       "        [-0.19771637, -0.02829886,  0.3490052 ,  0.5448065 ,  0.15235838,\n",
       "          0.02276032,  0.12246811, -0.04378856, -0.40981716, -0.22384134],\n",
       "        [-0.38724658,  0.06250331,  0.28853825, -0.22351024,  0.23836735,\n",
       "          0.07553577, -0.02144347,  0.4165722 , -0.27282134,  0.01252439],\n",
       "        [ 0.14212859,  0.5354999 ,  0.26520237,  0.11543511,  0.21531872,\n",
       "          0.30491218, -0.44864544, -0.22834271,  0.18484914,  0.4068498 ],\n",
       "        [-0.5314331 ,  0.27992076, -0.07202465, -0.30395833,  0.2744759 ,\n",
       "          0.3810174 , -0.03350944,  0.47465533,  0.14513615,  0.48387626],\n",
       "        [-0.21390852,  0.07935562, -0.11116447,  0.41550666,  0.12297387,\n",
       "         -0.1150913 , -0.03217274, -0.09361184,  0.04685332,  0.0839854 ]],\n",
       "       dtype=float32),\n",
       " array([0., 0., 0., 0., 0., 0., 0., 0., 0., 0.], dtype=float32),\n",
       " array([[ 0.2085775 ,  0.1237947 , -0.04800656, -0.3632754 , -0.20319435,\n",
       "          0.37083018, -0.10153534,  0.29187116,  0.20777139,  0.21092477],\n",
       "        [ 0.04492457, -0.1436514 ,  0.63316476,  0.35237223,  0.30205572,\n",
       "          0.611116  ,  0.48701224, -0.14346215, -0.42688817, -0.44789702],\n",
       "        [-0.40187588, -0.02085364,  0.1405444 , -0.08181302,  0.21005227,\n",
       "          0.32746884,  0.06896079,  0.11911274, -0.00544162, -0.3315376 ],\n",
       "        [-0.3603384 ,  0.39164993,  0.36831617,  0.02541609,  0.8409411 ,\n",
       "          0.03804158, -0.37978113,  0.0714334 , -0.30501023, -0.47437307],\n",
       "        [ 0.12616648,  0.4295241 , -0.37354207,  0.15027826,  0.2810204 ,\n",
       "         -0.03260775, -0.42299908, -0.1581851 , -0.11519159,  0.23608994],\n",
       "        [-0.3681706 , -0.41732883,  0.63425106, -0.00930099,  0.7805687 ,\n",
       "          0.50055504, -0.40392467,  0.61850446, -0.26525703, -0.5449727 ],\n",
       "        [ 0.1370145 ,  0.5448907 , -0.093393  , -0.382615  , -0.1899329 ,\n",
       "         -0.32334423,  0.04168215,  0.4129399 ,  0.06768449,  0.22884716],\n",
       "        [-0.00684575,  0.18159923,  0.46575454,  0.0881898 , -0.43867016,\n",
       "          0.20050971, -0.2525438 ,  0.01403085,  0.45448986, -0.02768924],\n",
       "        [ 0.33073226, -0.4397634 , -0.2630708 ,  0.02440808,  0.12009996,\n",
       "         -0.1906479 , -0.36349547,  0.06294404, -0.10627886,  0.6568414 ],\n",
       "        [ 0.12688057, -0.20651785, -0.15901415, -0.2871388 ,  0.5923909 ,\n",
       "         -0.21403685,  0.42709202, -0.33422375,  0.27310178,  0.13960318]],\n",
       "       dtype=float32),\n",
       " array([0., 0., 0., 0., 0., 0., 0., 0., 0., 0.], dtype=float32),\n",
       " array([[-0.1283626 , -0.57935596, -0.06243273,  0.3005782 , -0.7953613 ,\n",
       "          0.03431625, -0.25548333,  0.43955818,  0.44193417, -0.02423817],\n",
       "        [-0.39869186,  0.12847263, -0.32191285,  0.2883737 ,  0.00170865,\n",
       "         -0.3474335 ,  0.2110753 ,  0.48046622,  0.18429355, -0.5158761 ],\n",
       "        [-0.16173343,  0.08514382, -0.08546846,  0.03584497, -0.38227707,\n",
       "         -0.49409142, -0.30153173,  0.08046065,  0.07211325,  0.05592293],\n",
       "        [-0.26087412, -0.14667554, -0.38558623,  0.30406457,  0.04126   ,\n",
       "         -0.45552146, -0.39302006, -0.3260922 ,  0.00727948, -0.304973  ],\n",
       "        [ 0.47725087, -0.05792825,  0.13657394, -0.23970512, -0.18823528,\n",
       "         -0.20743173, -0.26319548, -0.2716009 ,  1.028406  ,  0.02788326],\n",
       "        [-0.23981702,  0.14798068,  0.21703283,  0.5062661 ,  0.13901009,\n",
       "         -0.28778842, -0.47809312,  0.3718446 ,  0.49726394,  0.33280715],\n",
       "        [-0.26532605, -0.01398455, -0.05384124, -0.15061763,  0.02233905,\n",
       "         -0.04659549,  0.11287472,  0.21694307,  1.1216475 , -0.2124425 ],\n",
       "        [-0.26585403,  0.07537175, -0.4272711 , -0.0981683 , -0.60574603,\n",
       "         -0.11767222,  0.08760567,  0.23109634, -0.640871  , -0.07794811],\n",
       "        [ 0.02233184, -0.07327712,  0.17250721, -0.36036494, -0.22544517,\n",
       "         -0.48048422,  1.0206264 , -0.03327911,  0.291636  , -0.29110807],\n",
       "        [ 0.41049504,  0.48336872, -0.01480292, -0.7505194 ,  0.16502619,\n",
       "         -0.45221788, -0.02562213, -0.08088814,  0.03761116,  0.18306196]],\n",
       "       dtype=float32),\n",
       " array([0., 0., 0., 0., 0., 0., 0., 0., 0., 0.], dtype=float32),\n",
       " array([[ 0.06119939],\n",
       "        [-0.3778584 ],\n",
       "        [ 0.08353325],\n",
       "        [ 0.16762242],\n",
       "        [ 0.14116563],\n",
       "        [-0.2819497 ],\n",
       "        [ 0.18962637],\n",
       "        [ 0.13294424],\n",
       "        [ 0.04865485],\n",
       "        [-0.14651617]], dtype=float32),\n",
       " array([0.], dtype=float32)]"
      ]
     },
     "execution_count": 14,
     "metadata": {},
     "output_type": "execute_result"
    }
   ],
   "source": [
    "model.get_weights()"
   ]
  },
  {
   "cell_type": "code",
   "execution_count": 15,
   "metadata": {},
   "outputs": [],
   "source": [
    "model.compile(loss='binary_crossentropy',optimizer='adam',metrics=['accuracy'])"
   ]
  },
  {
   "cell_type": "code",
   "execution_count": 16,
   "metadata": {},
   "outputs": [
    {
     "name": "stdout",
     "output_type": "stream",
     "text": [
      "Epoch 1/100\n",
      "\u001b[1m25/25\u001b[0m \u001b[32m━━━━━━━━━━━━━━━━━━━━\u001b[0m\u001b[37m\u001b[0m \u001b[1m5s\u001b[0m 21ms/step - accuracy: 0.5482 - loss: 0.6952 - val_accuracy: 0.8100 - val_loss: 0.6768\n",
      "Epoch 2/100\n",
      "\u001b[1m25/25\u001b[0m \u001b[32m━━━━━━━━━━━━━━━━━━━━\u001b[0m\u001b[37m\u001b[0m \u001b[1m0s\u001b[0m 3ms/step - accuracy: 0.8229 - loss: 0.6704 - val_accuracy: 0.8350 - val_loss: 0.6487\n",
      "Epoch 3/100\n",
      "\u001b[1m25/25\u001b[0m \u001b[32m━━━━━━━━━━━━━━━━━━━━\u001b[0m\u001b[37m\u001b[0m \u001b[1m0s\u001b[0m 3ms/step - accuracy: 0.8496 - loss: 0.6406 - val_accuracy: 0.8350 - val_loss: 0.6031\n",
      "Epoch 4/100\n",
      "\u001b[1m25/25\u001b[0m \u001b[32m━━━━━━━━━━━━━━━━━━━━\u001b[0m\u001b[37m\u001b[0m \u001b[1m0s\u001b[0m 3ms/step - accuracy: 0.8482 - loss: 0.5889 - val_accuracy: 0.8250 - val_loss: 0.5433\n",
      "Epoch 5/100\n",
      "\u001b[1m25/25\u001b[0m \u001b[32m━━━━━━━━━━━━━━━━━━━━\u001b[0m\u001b[37m\u001b[0m \u001b[1m0s\u001b[0m 3ms/step - accuracy: 0.8463 - loss: 0.5402 - val_accuracy: 0.8350 - val_loss: 0.4866\n",
      "Epoch 6/100\n",
      "\u001b[1m25/25\u001b[0m \u001b[32m━━━━━━━━━━━━━━━━━━━━\u001b[0m\u001b[37m\u001b[0m \u001b[1m0s\u001b[0m 3ms/step - accuracy: 0.8440 - loss: 0.4810 - val_accuracy: 0.8450 - val_loss: 0.4364\n",
      "Epoch 7/100\n",
      "\u001b[1m25/25\u001b[0m \u001b[32m━━━━━━━━━━━━━━━━━━━━\u001b[0m\u001b[37m\u001b[0m \u001b[1m0s\u001b[0m 3ms/step - accuracy: 0.8339 - loss: 0.4408 - val_accuracy: 0.8400 - val_loss: 0.3915\n",
      "Epoch 8/100\n",
      "\u001b[1m25/25\u001b[0m \u001b[32m━━━━━━━━━━━━━━━━━━━━\u001b[0m\u001b[37m\u001b[0m \u001b[1m0s\u001b[0m 3ms/step - accuracy: 0.8163 - loss: 0.4255 - val_accuracy: 0.8600 - val_loss: 0.3536\n",
      "Epoch 9/100\n",
      "\u001b[1m25/25\u001b[0m \u001b[32m━━━━━━━━━━━━━━━━━━━━\u001b[0m\u001b[37m\u001b[0m \u001b[1m0s\u001b[0m 3ms/step - accuracy: 0.8439 - loss: 0.3525 - val_accuracy: 0.8650 - val_loss: 0.3221\n",
      "Epoch 10/100\n",
      "\u001b[1m25/25\u001b[0m \u001b[32m━━━━━━━━━━━━━━━━━━━━\u001b[0m\u001b[37m\u001b[0m \u001b[1m0s\u001b[0m 3ms/step - accuracy: 0.8556 - loss: 0.3243 - val_accuracy: 0.8850 - val_loss: 0.3035\n",
      "Epoch 11/100\n",
      "\u001b[1m25/25\u001b[0m \u001b[32m━━━━━━━━━━━━━━━━━━━━\u001b[0m\u001b[37m\u001b[0m \u001b[1m0s\u001b[0m 2ms/step - accuracy: 0.8719 - loss: 0.3096 - val_accuracy: 0.8900 - val_loss: 0.2874\n",
      "Epoch 12/100\n",
      "\u001b[1m25/25\u001b[0m \u001b[32m━━━━━━━━━━━━━━━━━━━━\u001b[0m\u001b[37m\u001b[0m \u001b[1m0s\u001b[0m 3ms/step - accuracy: 0.8679 - loss: 0.3024 - val_accuracy: 0.8950 - val_loss: 0.2718\n",
      "Epoch 13/100\n",
      "\u001b[1m25/25\u001b[0m \u001b[32m━━━━━━━━━━━━━━━━━━━━\u001b[0m\u001b[37m\u001b[0m \u001b[1m0s\u001b[0m 3ms/step - accuracy: 0.8594 - loss: 0.3100 - val_accuracy: 0.9000 - val_loss: 0.2594\n",
      "Epoch 14/100\n",
      "\u001b[1m25/25\u001b[0m \u001b[32m━━━━━━━━━━━━━━━━━━━━\u001b[0m\u001b[37m\u001b[0m \u001b[1m0s\u001b[0m 3ms/step - accuracy: 0.8855 - loss: 0.2588 - val_accuracy: 0.9000 - val_loss: 0.2487\n",
      "Epoch 15/100\n",
      "\u001b[1m25/25\u001b[0m \u001b[32m━━━━━━━━━━━━━━━━━━━━\u001b[0m\u001b[37m\u001b[0m \u001b[1m0s\u001b[0m 3ms/step - accuracy: 0.8948 - loss: 0.2387 - val_accuracy: 0.9050 - val_loss: 0.2396\n",
      "Epoch 16/100\n",
      "\u001b[1m25/25\u001b[0m \u001b[32m━━━━━━━━━━━━━━━━━━━━\u001b[0m\u001b[37m\u001b[0m \u001b[1m0s\u001b[0m 3ms/step - accuracy: 0.8957 - loss: 0.2464 - val_accuracy: 0.9100 - val_loss: 0.2311\n",
      "Epoch 17/100\n",
      "\u001b[1m25/25\u001b[0m \u001b[32m━━━━━━━━━━━━━━━━━━━━\u001b[0m\u001b[37m\u001b[0m \u001b[1m0s\u001b[0m 7ms/step - accuracy: 0.8939 - loss: 0.2360 - val_accuracy: 0.9150 - val_loss: 0.2201\n",
      "Epoch 18/100\n",
      "\u001b[1m25/25\u001b[0m \u001b[32m━━━━━━━━━━━━━━━━━━━━\u001b[0m\u001b[37m\u001b[0m \u001b[1m0s\u001b[0m 3ms/step - accuracy: 0.9043 - loss: 0.2265 - val_accuracy: 0.9150 - val_loss: 0.2128\n",
      "Epoch 19/100\n",
      "\u001b[1m25/25\u001b[0m \u001b[32m━━━━━━━━━━━━━━━━━━━━\u001b[0m\u001b[37m\u001b[0m \u001b[1m0s\u001b[0m 3ms/step - accuracy: 0.8709 - loss: 0.2625 - val_accuracy: 0.9250 - val_loss: 0.2038\n",
      "Epoch 20/100\n",
      "\u001b[1m25/25\u001b[0m \u001b[32m━━━━━━━━━━━━━━━━━━━━\u001b[0m\u001b[37m\u001b[0m \u001b[1m0s\u001b[0m 3ms/step - accuracy: 0.9096 - loss: 0.2184 - val_accuracy: 0.9300 - val_loss: 0.1968\n",
      "Epoch 21/100\n",
      "\u001b[1m25/25\u001b[0m \u001b[32m━━━━━━━━━━━━━━━━━━━━\u001b[0m\u001b[37m\u001b[0m \u001b[1m0s\u001b[0m 3ms/step - accuracy: 0.9039 - loss: 0.2248 - val_accuracy: 0.9250 - val_loss: 0.1892\n",
      "Epoch 22/100\n",
      "\u001b[1m25/25\u001b[0m \u001b[32m━━━━━━━━━━━━━━━━━━━━\u001b[0m\u001b[37m\u001b[0m \u001b[1m0s\u001b[0m 2ms/step - accuracy: 0.8938 - loss: 0.2346 - val_accuracy: 0.9300 - val_loss: 0.1805\n",
      "Epoch 23/100\n",
      "\u001b[1m25/25\u001b[0m \u001b[32m━━━━━━━━━━━━━━━━━━━━\u001b[0m\u001b[37m\u001b[0m \u001b[1m0s\u001b[0m 3ms/step - accuracy: 0.9101 - loss: 0.2097 - val_accuracy: 0.9250 - val_loss: 0.1752\n",
      "Epoch 24/100\n",
      "\u001b[1m25/25\u001b[0m \u001b[32m━━━━━━━━━━━━━━━━━━━━\u001b[0m\u001b[37m\u001b[0m \u001b[1m0s\u001b[0m 3ms/step - accuracy: 0.9158 - loss: 0.1913 - val_accuracy: 0.9350 - val_loss: 0.1686\n",
      "Epoch 25/100\n",
      "\u001b[1m25/25\u001b[0m \u001b[32m━━━━━━━━━━━━━━━━━━━━\u001b[0m\u001b[37m\u001b[0m \u001b[1m0s\u001b[0m 3ms/step - accuracy: 0.9087 - loss: 0.1838 - val_accuracy: 0.9300 - val_loss: 0.1667\n",
      "Epoch 26/100\n",
      "\u001b[1m25/25\u001b[0m \u001b[32m━━━━━━━━━━━━━━━━━━━━\u001b[0m\u001b[37m\u001b[0m \u001b[1m0s\u001b[0m 3ms/step - accuracy: 0.9285 - loss: 0.1781 - val_accuracy: 0.9350 - val_loss: 0.1611\n",
      "Epoch 27/100\n",
      "\u001b[1m25/25\u001b[0m \u001b[32m━━━━━━━━━━━━━━━━━━━━\u001b[0m\u001b[37m\u001b[0m \u001b[1m0s\u001b[0m 2ms/step - accuracy: 0.9395 - loss: 0.1595 - val_accuracy: 0.9450 - val_loss: 0.1561\n",
      "Epoch 28/100\n",
      "\u001b[1m25/25\u001b[0m \u001b[32m━━━━━━━━━━━━━━━━━━━━\u001b[0m\u001b[37m\u001b[0m \u001b[1m0s\u001b[0m 3ms/step - accuracy: 0.9409 - loss: 0.1710 - val_accuracy: 0.9500 - val_loss: 0.1516\n",
      "Epoch 29/100\n",
      "\u001b[1m25/25\u001b[0m \u001b[32m━━━━━━━━━━━━━━━━━━━━\u001b[0m\u001b[37m\u001b[0m \u001b[1m0s\u001b[0m 3ms/step - accuracy: 0.9334 - loss: 0.1738 - val_accuracy: 0.9450 - val_loss: 0.1509\n",
      "Epoch 30/100\n",
      "\u001b[1m25/25\u001b[0m \u001b[32m━━━━━━━━━━━━━━━━━━━━\u001b[0m\u001b[37m\u001b[0m \u001b[1m0s\u001b[0m 3ms/step - accuracy: 0.9096 - loss: 0.1816 - val_accuracy: 0.9450 - val_loss: 0.1484\n",
      "Epoch 31/100\n",
      "\u001b[1m25/25\u001b[0m \u001b[32m━━━━━━━━━━━━━━━━━━━━\u001b[0m\u001b[37m\u001b[0m \u001b[1m0s\u001b[0m 3ms/step - accuracy: 0.9431 - loss: 0.1498 - val_accuracy: 0.9550 - val_loss: 0.1427\n",
      "Epoch 32/100\n",
      "\u001b[1m25/25\u001b[0m \u001b[32m━━━━━━━━━━━━━━━━━━━━\u001b[0m\u001b[37m\u001b[0m \u001b[1m0s\u001b[0m 3ms/step - accuracy: 0.9274 - loss: 0.1531 - val_accuracy: 0.9550 - val_loss: 0.1406\n",
      "Epoch 33/100\n",
      "\u001b[1m25/25\u001b[0m \u001b[32m━━━━━━━━━━━━━━━━━━━━\u001b[0m\u001b[37m\u001b[0m \u001b[1m0s\u001b[0m 3ms/step - accuracy: 0.9372 - loss: 0.1440 - val_accuracy: 0.9500 - val_loss: 0.1372\n",
      "Epoch 34/100\n",
      "\u001b[1m25/25\u001b[0m \u001b[32m━━━━━━━━━━━━━━━━━━━━\u001b[0m\u001b[37m\u001b[0m \u001b[1m0s\u001b[0m 3ms/step - accuracy: 0.9417 - loss: 0.1526 - val_accuracy: 0.9500 - val_loss: 0.1373\n",
      "Epoch 35/100\n",
      "\u001b[1m25/25\u001b[0m \u001b[32m━━━━━━━━━━━━━━━━━━━━\u001b[0m\u001b[37m\u001b[0m \u001b[1m0s\u001b[0m 3ms/step - accuracy: 0.9438 - loss: 0.1447 - val_accuracy: 0.9600 - val_loss: 0.1342\n",
      "Epoch 36/100\n",
      "\u001b[1m25/25\u001b[0m \u001b[32m━━━━━━━━━━━━━━━━━━━━\u001b[0m\u001b[37m\u001b[0m \u001b[1m0s\u001b[0m 3ms/step - accuracy: 0.9569 - loss: 0.1238 - val_accuracy: 0.9600 - val_loss: 0.1309\n",
      "Epoch 37/100\n",
      "\u001b[1m25/25\u001b[0m \u001b[32m━━━━━━━━━━━━━━━━━━━━\u001b[0m\u001b[37m\u001b[0m \u001b[1m0s\u001b[0m 3ms/step - accuracy: 0.9564 - loss: 0.1172 - val_accuracy: 0.9600 - val_loss: 0.1312\n",
      "Epoch 38/100\n",
      "\u001b[1m25/25\u001b[0m \u001b[32m━━━━━━━━━━━━━━━━━━━━\u001b[0m\u001b[37m\u001b[0m \u001b[1m0s\u001b[0m 3ms/step - accuracy: 0.9402 - loss: 0.1420 - val_accuracy: 0.9600 - val_loss: 0.1282\n",
      "Epoch 39/100\n",
      "\u001b[1m25/25\u001b[0m \u001b[32m━━━━━━━━━━━━━━━━━━━━\u001b[0m\u001b[37m\u001b[0m \u001b[1m0s\u001b[0m 3ms/step - accuracy: 0.9564 - loss: 0.1253 - val_accuracy: 0.9600 - val_loss: 0.1264\n",
      "Epoch 40/100\n",
      "\u001b[1m25/25\u001b[0m \u001b[32m━━━━━━━━━━━━━━━━━━━━\u001b[0m\u001b[37m\u001b[0m \u001b[1m0s\u001b[0m 3ms/step - accuracy: 0.9466 - loss: 0.1244 - val_accuracy: 0.9650 - val_loss: 0.1241\n",
      "Epoch 41/100\n",
      "\u001b[1m25/25\u001b[0m \u001b[32m━━━━━━━━━━━━━━━━━━━━\u001b[0m\u001b[37m\u001b[0m \u001b[1m0s\u001b[0m 5ms/step - accuracy: 0.9541 - loss: 0.1294 - val_accuracy: 0.9650 - val_loss: 0.1221\n",
      "Epoch 42/100\n",
      "\u001b[1m25/25\u001b[0m \u001b[32m━━━━━━━━━━━━━━━━━━━━\u001b[0m\u001b[37m\u001b[0m \u001b[1m0s\u001b[0m 3ms/step - accuracy: 0.9468 - loss: 0.1249 - val_accuracy: 0.9650 - val_loss: 0.1225\n",
      "Epoch 43/100\n",
      "\u001b[1m25/25\u001b[0m \u001b[32m━━━━━━━━━━━━━━━━━━━━\u001b[0m\u001b[37m\u001b[0m \u001b[1m0s\u001b[0m 3ms/step - accuracy: 0.9594 - loss: 0.0940 - val_accuracy: 0.9650 - val_loss: 0.1209\n",
      "Epoch 44/100\n",
      "\u001b[1m25/25\u001b[0m \u001b[32m━━━━━━━━━━━━━━━━━━━━\u001b[0m\u001b[37m\u001b[0m \u001b[1m0s\u001b[0m 3ms/step - accuracy: 0.9546 - loss: 0.1253 - val_accuracy: 0.9650 - val_loss: 0.1190\n",
      "Epoch 45/100\n",
      "\u001b[1m25/25\u001b[0m \u001b[32m━━━━━━━━━━━━━━━━━━━━\u001b[0m\u001b[37m\u001b[0m \u001b[1m0s\u001b[0m 3ms/step - accuracy: 0.9696 - loss: 0.0918 - val_accuracy: 0.9650 - val_loss: 0.1207\n",
      "Epoch 46/100\n",
      "\u001b[1m25/25\u001b[0m \u001b[32m━━━━━━━━━━━━━━━━━━━━\u001b[0m\u001b[37m\u001b[0m \u001b[1m0s\u001b[0m 3ms/step - accuracy: 0.9573 - loss: 0.1098 - val_accuracy: 0.9650 - val_loss: 0.1187\n",
      "Epoch 47/100\n",
      "\u001b[1m25/25\u001b[0m \u001b[32m━━━━━━━━━━━━━━━━━━━━\u001b[0m\u001b[37m\u001b[0m \u001b[1m0s\u001b[0m 3ms/step - accuracy: 0.9646 - loss: 0.1013 - val_accuracy: 0.9650 - val_loss: 0.1180\n",
      "Epoch 48/100\n",
      "\u001b[1m25/25\u001b[0m \u001b[32m━━━━━━━━━━━━━━━━━━━━\u001b[0m\u001b[37m\u001b[0m \u001b[1m0s\u001b[0m 3ms/step - accuracy: 0.9704 - loss: 0.0978 - val_accuracy: 0.9650 - val_loss: 0.1165\n",
      "Epoch 49/100\n",
      "\u001b[1m25/25\u001b[0m \u001b[32m━━━━━━━━━━━━━━━━━━━━\u001b[0m\u001b[37m\u001b[0m \u001b[1m0s\u001b[0m 3ms/step - accuracy: 0.9582 - loss: 0.1111 - val_accuracy: 0.9650 - val_loss: 0.1163\n",
      "Epoch 50/100\n",
      "\u001b[1m25/25\u001b[0m \u001b[32m━━━━━━━━━━━━━━━━━━━━\u001b[0m\u001b[37m\u001b[0m \u001b[1m0s\u001b[0m 3ms/step - accuracy: 0.9576 - loss: 0.0975 - val_accuracy: 0.9650 - val_loss: 0.1155\n",
      "Epoch 51/100\n",
      "\u001b[1m25/25\u001b[0m \u001b[32m━━━━━━━━━━━━━━━━━━━━\u001b[0m\u001b[37m\u001b[0m \u001b[1m0s\u001b[0m 3ms/step - accuracy: 0.9626 - loss: 0.1074 - val_accuracy: 0.9650 - val_loss: 0.1179\n",
      "Epoch 52/100\n",
      "\u001b[1m25/25\u001b[0m \u001b[32m━━━━━━━━━━━━━━━━━━━━\u001b[0m\u001b[37m\u001b[0m \u001b[1m0s\u001b[0m 3ms/step - accuracy: 0.9513 - loss: 0.1139 - val_accuracy: 0.9650 - val_loss: 0.1162\n",
      "Epoch 53/100\n",
      "\u001b[1m25/25\u001b[0m \u001b[32m━━━━━━━━━━━━━━━━━━━━\u001b[0m\u001b[37m\u001b[0m \u001b[1m0s\u001b[0m 3ms/step - accuracy: 0.9565 - loss: 0.1091 - val_accuracy: 0.9650 - val_loss: 0.1143\n",
      "Epoch 54/100\n",
      "\u001b[1m25/25\u001b[0m \u001b[32m━━━━━━━━━━━━━━━━━━━━\u001b[0m\u001b[37m\u001b[0m \u001b[1m0s\u001b[0m 3ms/step - accuracy: 0.9529 - loss: 0.1026 - val_accuracy: 0.9650 - val_loss: 0.1143\n",
      "Epoch 55/100\n",
      "\u001b[1m25/25\u001b[0m \u001b[32m━━━━━━━━━━━━━━━━━━━━\u001b[0m\u001b[37m\u001b[0m \u001b[1m0s\u001b[0m 3ms/step - accuracy: 0.9478 - loss: 0.1164 - val_accuracy: 0.9650 - val_loss: 0.1134\n",
      "Epoch 56/100\n",
      "\u001b[1m25/25\u001b[0m \u001b[32m━━━━━━━━━━━━━━━━━━━━\u001b[0m\u001b[37m\u001b[0m \u001b[1m0s\u001b[0m 3ms/step - accuracy: 0.9780 - loss: 0.0811 - val_accuracy: 0.9650 - val_loss: 0.1132\n",
      "Epoch 57/100\n",
      "\u001b[1m25/25\u001b[0m \u001b[32m━━━━━━━━━━━━━━━━━━━━\u001b[0m\u001b[37m\u001b[0m \u001b[1m0s\u001b[0m 3ms/step - accuracy: 0.9580 - loss: 0.1033 - val_accuracy: 0.9700 - val_loss: 0.1124\n",
      "Epoch 58/100\n",
      "\u001b[1m25/25\u001b[0m \u001b[32m━━━━━━━━━━━━━━━━━━━━\u001b[0m\u001b[37m\u001b[0m \u001b[1m0s\u001b[0m 4ms/step - accuracy: 0.9643 - loss: 0.0925 - val_accuracy: 0.9700 - val_loss: 0.1119\n",
      "Epoch 59/100\n",
      "\u001b[1m25/25\u001b[0m \u001b[32m━━━━━━━━━━━━━━━━━━━━\u001b[0m\u001b[37m\u001b[0m \u001b[1m0s\u001b[0m 3ms/step - accuracy: 0.9655 - loss: 0.0852 - val_accuracy: 0.9650 - val_loss: 0.1139\n",
      "Epoch 60/100\n",
      "\u001b[1m25/25\u001b[0m \u001b[32m━━━━━━━━━━━━━━━━━━━━\u001b[0m\u001b[37m\u001b[0m \u001b[1m0s\u001b[0m 3ms/step - accuracy: 0.9782 - loss: 0.0719 - val_accuracy: 0.9700 - val_loss: 0.1102\n",
      "Epoch 61/100\n",
      "\u001b[1m25/25\u001b[0m \u001b[32m━━━━━━━━━━━━━━━━━━━━\u001b[0m\u001b[37m\u001b[0m \u001b[1m0s\u001b[0m 3ms/step - accuracy: 0.9660 - loss: 0.0760 - val_accuracy: 0.9700 - val_loss: 0.1100\n",
      "Epoch 62/100\n",
      "\u001b[1m25/25\u001b[0m \u001b[32m━━━━━━━━━━━━━━━━━━━━\u001b[0m\u001b[37m\u001b[0m \u001b[1m0s\u001b[0m 3ms/step - accuracy: 0.9614 - loss: 0.0873 - val_accuracy: 0.9700 - val_loss: 0.1107\n",
      "Epoch 63/100\n",
      "\u001b[1m25/25\u001b[0m \u001b[32m━━━━━━━━━━━━━━━━━━━━\u001b[0m\u001b[37m\u001b[0m \u001b[1m0s\u001b[0m 3ms/step - accuracy: 0.9728 - loss: 0.0917 - val_accuracy: 0.9700 - val_loss: 0.1107\n",
      "Epoch 64/100\n",
      "\u001b[1m25/25\u001b[0m \u001b[32m━━━━━━━━━━━━━━━━━━━━\u001b[0m\u001b[37m\u001b[0m \u001b[1m0s\u001b[0m 3ms/step - accuracy: 0.9732 - loss: 0.0815 - val_accuracy: 0.9650 - val_loss: 0.1138\n",
      "Epoch 65/100\n",
      "\u001b[1m25/25\u001b[0m \u001b[32m━━━━━━━━━━━━━━━━━━━━\u001b[0m\u001b[37m\u001b[0m \u001b[1m0s\u001b[0m 3ms/step - accuracy: 0.9710 - loss: 0.0807 - val_accuracy: 0.9700 - val_loss: 0.1111\n",
      "Epoch 66/100\n",
      "\u001b[1m25/25\u001b[0m \u001b[32m━━━━━━━━━━━━━━━━━━━━\u001b[0m\u001b[37m\u001b[0m \u001b[1m0s\u001b[0m 3ms/step - accuracy: 0.9510 - loss: 0.1047 - val_accuracy: 0.9700 - val_loss: 0.1106\n",
      "Epoch 67/100\n",
      "\u001b[1m25/25\u001b[0m \u001b[32m━━━━━━━━━━━━━━━━━━━━\u001b[0m\u001b[37m\u001b[0m \u001b[1m0s\u001b[0m 3ms/step - accuracy: 0.9654 - loss: 0.0921 - val_accuracy: 0.9700 - val_loss: 0.1131\n",
      "Epoch 68/100\n",
      "\u001b[1m25/25\u001b[0m \u001b[32m━━━━━━━━━━━━━━━━━━━━\u001b[0m\u001b[37m\u001b[0m \u001b[1m0s\u001b[0m 3ms/step - accuracy: 0.9614 - loss: 0.0960 - val_accuracy: 0.9700 - val_loss: 0.1110\n",
      "Epoch 69/100\n",
      "\u001b[1m25/25\u001b[0m \u001b[32m━━━━━━━━━━━━━━━━━━━━\u001b[0m\u001b[37m\u001b[0m \u001b[1m0s\u001b[0m 3ms/step - accuracy: 0.9559 - loss: 0.1029 - val_accuracy: 0.9700 - val_loss: 0.1090\n",
      "Epoch 70/100\n",
      "\u001b[1m25/25\u001b[0m \u001b[32m━━━━━━━━━━━━━━━━━━━━\u001b[0m\u001b[37m\u001b[0m \u001b[1m0s\u001b[0m 3ms/step - accuracy: 0.9566 - loss: 0.1071 - val_accuracy: 0.9700 - val_loss: 0.1112\n",
      "Epoch 71/100\n",
      "\u001b[1m25/25\u001b[0m \u001b[32m━━━━━━━━━━━━━━━━━━━━\u001b[0m\u001b[37m\u001b[0m \u001b[1m0s\u001b[0m 3ms/step - accuracy: 0.9737 - loss: 0.0679 - val_accuracy: 0.9700 - val_loss: 0.1091\n",
      "Epoch 72/100\n",
      "\u001b[1m25/25\u001b[0m \u001b[32m━━━━━━━━━━━━━━━━━━━━\u001b[0m\u001b[37m\u001b[0m \u001b[1m0s\u001b[0m 3ms/step - accuracy: 0.9656 - loss: 0.0894 - val_accuracy: 0.9700 - val_loss: 0.1095\n",
      "Epoch 73/100\n",
      "\u001b[1m25/25\u001b[0m \u001b[32m━━━━━━━━━━━━━━━━━━━━\u001b[0m\u001b[37m\u001b[0m \u001b[1m0s\u001b[0m 3ms/step - accuracy: 0.9571 - loss: 0.1083 - val_accuracy: 0.9700 - val_loss: 0.1089\n",
      "Epoch 74/100\n",
      "\u001b[1m25/25\u001b[0m \u001b[32m━━━━━━━━━━━━━━━━━━━━\u001b[0m\u001b[37m\u001b[0m \u001b[1m0s\u001b[0m 3ms/step - accuracy: 0.9716 - loss: 0.0912 - val_accuracy: 0.9700 - val_loss: 0.1098\n",
      "Epoch 75/100\n",
      "\u001b[1m25/25\u001b[0m \u001b[32m━━━━━━━━━━━━━━━━━━━━\u001b[0m\u001b[37m\u001b[0m \u001b[1m0s\u001b[0m 3ms/step - accuracy: 0.9708 - loss: 0.0786 - val_accuracy: 0.9700 - val_loss: 0.1091\n",
      "Epoch 76/100\n",
      "\u001b[1m25/25\u001b[0m \u001b[32m━━━━━━━━━━━━━━━━━━━━\u001b[0m\u001b[37m\u001b[0m \u001b[1m0s\u001b[0m 3ms/step - accuracy: 0.9703 - loss: 0.0785 - val_accuracy: 0.9700 - val_loss: 0.1080\n",
      "Epoch 77/100\n",
      "\u001b[1m25/25\u001b[0m \u001b[32m━━━━━━━━━━━━━━━━━━━━\u001b[0m\u001b[37m\u001b[0m \u001b[1m0s\u001b[0m 3ms/step - accuracy: 0.9686 - loss: 0.0782 - val_accuracy: 0.9700 - val_loss: 0.1116\n",
      "Epoch 78/100\n",
      "\u001b[1m25/25\u001b[0m \u001b[32m━━━━━━━━━━━━━━━━━━━━\u001b[0m\u001b[37m\u001b[0m \u001b[1m0s\u001b[0m 3ms/step - accuracy: 0.9618 - loss: 0.0868 - val_accuracy: 0.9700 - val_loss: 0.1100\n",
      "Epoch 79/100\n",
      "\u001b[1m25/25\u001b[0m \u001b[32m━━━━━━━━━━━━━━━━━━━━\u001b[0m\u001b[37m\u001b[0m \u001b[1m0s\u001b[0m 3ms/step - accuracy: 0.9629 - loss: 0.0976 - val_accuracy: 0.9700 - val_loss: 0.1084\n",
      "Epoch 80/100\n",
      "\u001b[1m25/25\u001b[0m \u001b[32m━━━━━━━━━━━━━━━━━━━━\u001b[0m\u001b[37m\u001b[0m \u001b[1m0s\u001b[0m 3ms/step - accuracy: 0.9643 - loss: 0.0916 - val_accuracy: 0.9700 - val_loss: 0.1078\n",
      "Epoch 81/100\n",
      "\u001b[1m25/25\u001b[0m \u001b[32m━━━━━━━━━━━━━━━━━━━━\u001b[0m\u001b[37m\u001b[0m \u001b[1m0s\u001b[0m 3ms/step - accuracy: 0.9694 - loss: 0.0704 - val_accuracy: 0.9700 - val_loss: 0.1068\n",
      "Epoch 82/100\n",
      "\u001b[1m25/25\u001b[0m \u001b[32m━━━━━━━━━━━━━━━━━━━━\u001b[0m\u001b[37m\u001b[0m \u001b[1m0s\u001b[0m 3ms/step - accuracy: 0.9813 - loss: 0.0702 - val_accuracy: 0.9700 - val_loss: 0.1061\n",
      "Epoch 83/100\n",
      "\u001b[1m25/25\u001b[0m \u001b[32m━━━━━━━━━━━━━━━━━━━━\u001b[0m\u001b[37m\u001b[0m \u001b[1m0s\u001b[0m 3ms/step - accuracy: 0.9732 - loss: 0.0899 - val_accuracy: 0.9700 - val_loss: 0.1081\n",
      "Epoch 84/100\n",
      "\u001b[1m25/25\u001b[0m \u001b[32m━━━━━━━━━━━━━━━━━━━━\u001b[0m\u001b[37m\u001b[0m \u001b[1m0s\u001b[0m 3ms/step - accuracy: 0.9744 - loss: 0.0818 - val_accuracy: 0.9700 - val_loss: 0.1071\n",
      "Epoch 85/100\n",
      "\u001b[1m25/25\u001b[0m \u001b[32m━━━━━━━━━━━━━━━━━━━━\u001b[0m\u001b[37m\u001b[0m \u001b[1m0s\u001b[0m 3ms/step - accuracy: 0.9673 - loss: 0.0844 - val_accuracy: 0.9700 - val_loss: 0.1069\n",
      "Epoch 86/100\n",
      "\u001b[1m25/25\u001b[0m \u001b[32m━━━━━━━━━━━━━━━━━━━━\u001b[0m\u001b[37m\u001b[0m \u001b[1m0s\u001b[0m 3ms/step - accuracy: 0.9657 - loss: 0.0744 - val_accuracy: 0.9700 - val_loss: 0.1074\n",
      "Epoch 87/100\n",
      "\u001b[1m25/25\u001b[0m \u001b[32m━━━━━━━━━━━━━━━━━━━━\u001b[0m\u001b[37m\u001b[0m \u001b[1m0s\u001b[0m 3ms/step - accuracy: 0.9632 - loss: 0.0959 - val_accuracy: 0.9700 - val_loss: 0.1055\n",
      "Epoch 88/100\n",
      "\u001b[1m25/25\u001b[0m \u001b[32m━━━━━━━━━━━━━━━━━━━━\u001b[0m\u001b[37m\u001b[0m \u001b[1m0s\u001b[0m 3ms/step - accuracy: 0.9694 - loss: 0.0776 - val_accuracy: 0.9700 - val_loss: 0.1083\n",
      "Epoch 89/100\n",
      "\u001b[1m25/25\u001b[0m \u001b[32m━━━━━━━━━━━━━━━━━━━━\u001b[0m\u001b[37m\u001b[0m \u001b[1m0s\u001b[0m 4ms/step - accuracy: 0.9720 - loss: 0.0812 - val_accuracy: 0.9700 - val_loss: 0.1060\n",
      "Epoch 90/100\n",
      "\u001b[1m25/25\u001b[0m \u001b[32m━━━━━━━━━━━━━━━━━━━━\u001b[0m\u001b[37m\u001b[0m \u001b[1m0s\u001b[0m 3ms/step - accuracy: 0.9733 - loss: 0.0782 - val_accuracy: 0.9700 - val_loss: 0.1107\n",
      "Epoch 91/100\n",
      "\u001b[1m25/25\u001b[0m \u001b[32m━━━━━━━━━━━━━━━━━━━━\u001b[0m\u001b[37m\u001b[0m \u001b[1m0s\u001b[0m 4ms/step - accuracy: 0.9517 - loss: 0.1092 - val_accuracy: 0.9700 - val_loss: 0.1067\n",
      "Epoch 92/100\n",
      "\u001b[1m25/25\u001b[0m \u001b[32m━━━━━━━━━━━━━━━━━━━━\u001b[0m\u001b[37m\u001b[0m \u001b[1m0s\u001b[0m 3ms/step - accuracy: 0.9761 - loss: 0.0695 - val_accuracy: 0.9700 - val_loss: 0.1082\n",
      "Epoch 93/100\n",
      "\u001b[1m25/25\u001b[0m \u001b[32m━━━━━━━━━━━━━━━━━━━━\u001b[0m\u001b[37m\u001b[0m \u001b[1m0s\u001b[0m 3ms/step - accuracy: 0.9651 - loss: 0.0963 - val_accuracy: 0.9700 - val_loss: 0.1067\n",
      "Epoch 94/100\n",
      "\u001b[1m25/25\u001b[0m \u001b[32m━━━━━━━━━━━━━━━━━━━━\u001b[0m\u001b[37m\u001b[0m \u001b[1m0s\u001b[0m 3ms/step - accuracy: 0.9810 - loss: 0.0665 - val_accuracy: 0.9700 - val_loss: 0.1059\n",
      "Epoch 95/100\n",
      "\u001b[1m25/25\u001b[0m \u001b[32m━━━━━━━━━━━━━━━━━━━━\u001b[0m\u001b[37m\u001b[0m \u001b[1m0s\u001b[0m 3ms/step - accuracy: 0.9582 - loss: 0.1077 - val_accuracy: 0.9700 - val_loss: 0.1074\n",
      "Epoch 96/100\n",
      "\u001b[1m25/25\u001b[0m \u001b[32m━━━━━━━━━━━━━━━━━━━━\u001b[0m\u001b[37m\u001b[0m \u001b[1m0s\u001b[0m 3ms/step - accuracy: 0.9723 - loss: 0.0912 - val_accuracy: 0.9700 - val_loss: 0.1104\n",
      "Epoch 97/100\n",
      "\u001b[1m25/25\u001b[0m \u001b[32m━━━━━━━━━━━━━━━━━━━━\u001b[0m\u001b[37m\u001b[0m \u001b[1m0s\u001b[0m 3ms/step - accuracy: 0.9668 - loss: 0.0859 - val_accuracy: 0.9700 - val_loss: 0.1063\n",
      "Epoch 98/100\n",
      "\u001b[1m25/25\u001b[0m \u001b[32m━━━━━━━━━━━━━━━━━━━━\u001b[0m\u001b[37m\u001b[0m \u001b[1m0s\u001b[0m 4ms/step - accuracy: 0.9828 - loss: 0.0640 - val_accuracy: 0.9700 - val_loss: 0.1073\n",
      "Epoch 99/100\n",
      "\u001b[1m25/25\u001b[0m \u001b[32m━━━━━━━━━━━━━━━━━━━━\u001b[0m\u001b[37m\u001b[0m \u001b[1m0s\u001b[0m 3ms/step - accuracy: 0.9723 - loss: 0.0777 - val_accuracy: 0.9700 - val_loss: 0.1081\n",
      "Epoch 100/100\n",
      "\u001b[1m25/25\u001b[0m \u001b[32m━━━━━━━━━━━━━━━━━━━━\u001b[0m\u001b[37m\u001b[0m \u001b[1m0s\u001b[0m 3ms/step - accuracy: 0.9719 - loss: 0.0755 - val_accuracy: 0.9700 - val_loss: 0.1063\n"
     ]
    }
   ],
   "source": [
    "history = model.fit(x,y,epochs=100,validation_split=0.2)"
   ]
  },
  {
   "cell_type": "code",
   "execution_count": 17,
   "metadata": {},
   "outputs": [
    {
     "data": {
      "text/plain": [
       "[array([[ 0.9744453 ,  0.68926275,  0.15432987,  1.2074085 , -1.8831395 ,\n",
       "          0.90375614, -1.1861011 , -0.9155517 , -0.18290506, -0.2085146 ],\n",
       "        [ 1.3882881 ,  0.46769065, -0.18598646, -0.6786777 , -0.32657585,\n",
       "         -0.5404091 ,  0.9835646 ,  0.25745228,  0.457629  , -0.06515709]],\n",
       "       dtype=float32),\n",
       " array([-0.05970846, -0.04680719,  0.62504625, -0.6165183 , -0.2153892 ,\n",
       "         0.16436517, -0.18830045, -0.19434932,  0.50750387,  0.5138724 ],\n",
       "       dtype=float32),\n",
       " array([[-0.16738608,  0.16542694, -0.23844315,  0.701419  , -0.09587579,\n",
       "         -0.07941183, -0.30776054,  0.38282266,  0.05624122, -0.37539333],\n",
       "        [ 0.17016336,  0.17537497,  0.4746236 ,  0.42933774,  0.11058582,\n",
       "          0.4993883 , -0.8961388 ,  0.02895662, -0.69138527, -0.6168942 ],\n",
       "        [ 0.07305803,  0.11172441,  0.26779917,  0.8798536 , -0.42518145,\n",
       "          0.09773391,  0.7744608 ,  0.38341382,  0.0363467 ,  0.4577959 ],\n",
       "        [ 0.02062728, -0.37863916, -0.7280568 ,  0.5793131 , -0.1967825 ,\n",
       "         -0.3840037 , -0.86480147, -0.6452822 , -0.15598153, -0.11677184],\n",
       "        [ 0.09684397,  0.5744763 ,  0.17989546, -0.08772109, -0.15614073,\n",
       "          0.5773301 , -0.1053027 ,  0.03733924,  0.08351061, -0.5515362 ],\n",
       "        [-0.21085025,  0.00997989,  0.39538047,  0.90902203,  0.09924378,\n",
       "         -0.00159851, -0.18479355,  0.10469215, -0.3742805 , -0.10617109],\n",
       "        [-0.39447263,  0.25691772,  0.5269458 , -0.0515929 ,  0.10132593,\n",
       "          0.29377428,  0.06489502,  0.6045412 , -0.3376769 , -0.03188856],\n",
       "        [ 0.12617183,  0.8186523 ,  0.6113468 ,  0.18241534,  0.05594826,\n",
       "          0.62406105, -0.66618013,  0.06565499,  0.11220222,  0.18799233],\n",
       "        [-0.5314331 ,  0.45986342,  0.14710629, -0.24850276,  0.15401831,\n",
       "          0.57660085,  0.31559527,  0.6657034 ,  0.08128513,  0.6002302 ],\n",
       "        [-0.21390852,  0.44359767,  0.3106976 ,  0.2934568 ,  0.00652671,\n",
       "          0.26371482,  0.30884996,  0.2654848 , -0.05708669,  0.26086286]],\n",
       "       dtype=float32),\n",
       " array([-0.03035882,  0.23575073,  0.29644707,  0.27433896, -0.09031902,\n",
       "         0.2631225 ,  0.39340642,  0.21281984, -0.04280161,  0.48485205],\n",
       "       dtype=float32),\n",
       " array([[ 2.1922556e-01,  1.2328531e-01, -7.6406993e-02, -3.6565465e-01,\n",
       "         -1.7794058e-01,  3.4538859e-01, -1.0153534e-01,  2.6579738e-01,\n",
       "          2.0777139e-01,  2.1092477e-01],\n",
       "        [ 5.5666354e-02, -2.1696368e-01,  9.3404984e-01,  2.7143800e-01,\n",
       "          2.4750160e-01,  8.9245528e-01,  4.3518290e-01,  1.4332014e-01,\n",
       "         -4.4381821e-01, -4.4789702e-01],\n",
       "        [-4.0187588e-01, -4.0755388e-01,  5.9881097e-01, -2.0297460e-01,\n",
       "          1.3247092e-01,  7.7674288e-01,  1.9715939e-02,  5.7687098e-01,\n",
       "         -1.3338292e-02, -3.3153760e-01],\n",
       "        [-3.4909835e-01,  3.8500935e-01,  1.7104489e-01, -4.1386284e-02,\n",
       "          1.2210357e+00,  1.9260563e-02, -3.5013282e-01,  1.2716845e-02,\n",
       "         -3.2198420e-01, -4.7437307e-01],\n",
       "        [ 1.3098879e-01,  3.9411575e-01, -2.0238456e-01,  8.8154398e-02,\n",
       "          2.5156453e-01,  1.2840207e-01, -4.4486856e-01,  4.5132958e-03,\n",
       "         -1.3200149e-01,  2.3608994e-01],\n",
       "        [-3.5648736e-01, -5.0466394e-01,  9.4803494e-01, -9.5856577e-02,\n",
       "          7.8421056e-01,  7.6948291e-01, -4.5552284e-01,  9.2263687e-01,\n",
       "         -2.8278989e-01, -5.4497272e-01],\n",
       "        [ 1.4879295e-01,  1.8057123e+00, -9.8883855e-01, -4.3908042e-01,\n",
       "          8.9718163e-01, -1.1896698e+00,  1.6957194e-03, -5.6635374e-01,\n",
       "          6.7684494e-02,  2.2884716e-01],\n",
       "        [-6.8457536e-03,  5.6255210e-02,  7.5057322e-01,  1.1999665e-02,\n",
       "         -4.8975548e-01,  4.5196763e-01, -2.6850870e-01,  2.9873621e-01,\n",
       "          4.3724278e-01, -2.7689245e-02],\n",
       "        [ 3.4168085e-01, -4.8552531e-01, -2.2265786e-01, -3.3159698e-03,\n",
       "          8.1763223e-02, -1.7083398e-01, -3.6905488e-01,  9.8338485e-02,\n",
       "         -1.0627886e-01,  6.5684140e-01],\n",
       "        [ 1.3029262e-01,  6.3301545e-01, -6.7257810e-01, -3.6108038e-01,\n",
       "          1.4692523e+00, -7.1422249e-01,  3.8076118e-01, -9.6413904e-01,\n",
       "          2.5571486e-01,  1.3960318e-01]], dtype=float32),\n",
       " array([ 0.01096941, -0.17171347, -0.02247383, -0.06915766,  0.23778443,\n",
       "         0.11820038, -0.04782687,  0.06094816, -0.0181442 ,  0.        ],\n",
       "       dtype=float32),\n",
       " array([[-0.12399589, -0.5860824 , -0.06243273,  0.3005782 , -0.7953613 ,\n",
       "          0.03431625, -0.25548333,  0.4446124 ,  0.44531128, -0.02978313],\n",
       "        [ 0.43108457, -0.46070123,  0.5222314 ,  0.25867584,  0.00170865,\n",
       "         -0.3474335 ,  0.2110753 ,  0.44718236,  1.06954   , -1.1048291 ],\n",
       "        [-0.24375066,  0.4331404 , -0.18399562, -0.04699229, -0.38227707,\n",
       "         -0.49409142, -0.30153173, -0.02939758, -0.25131777,  0.4249808 ],\n",
       "        [-0.3053402 , -0.10413274, -0.41238868,  0.26705363,  0.04126   ,\n",
       "         -0.45552146, -0.39302006, -0.3643021 , -0.02665834, -0.25913668],\n",
       "        [ 0.86392653, -0.022338  ,  0.40793997, -0.313822  , -0.18823528,\n",
       "         -0.20743173, -0.26319548, -0.36911628,  1.2718313 ,  0.12974247],\n",
       "        [-0.5621159 ,  0.56545824, -0.01694887,  0.42204064,  0.13901009,\n",
       "         -0.28778842, -0.47809312,  0.25610057,  0.04585723,  0.78028893],\n",
       "        [-0.2971024 ,  0.0223503 , -0.07612027, -0.15425098,  0.02233905,\n",
       "         -0.04659549,  0.11287472,  0.21122633,  1.0944179 , -0.17684713],\n",
       "        [-0.5398262 ,  0.5052361 , -0.6774713 , -0.20690307, -0.60574603,\n",
       "         -0.11767222,  0.08760567,  0.10772419, -1.1146196 ,  0.4125959 ],\n",
       "        [ 0.02233184, -0.05938324,  0.17250721, -0.373234  , -0.22544517,\n",
       "         -0.48048422,  1.0206264 , -0.04580579,  0.2818637 , -0.277846  ],\n",
       "        [ 0.41049504,  0.48336872, -0.01480292, -0.7505194 ,  0.16502619,\n",
       "         -0.45221788, -0.02562213, -0.08088814,  0.03761116,  0.18306196]],\n",
       "       dtype=float32),\n",
       " array([ 0.22571702,  0.06563187,  0.05989314, -0.06150124,  0.        ,\n",
       "         0.        ,  0.        , -0.07090926,  0.12118453,  0.1264268 ],\n",
       "       dtype=float32),\n",
       " array([[ 0.6175927 ],\n",
       "        [-0.8620036 ],\n",
       "        [ 0.6670079 ],\n",
       "        [ 0.1278332 ],\n",
       "        [ 0.14116563],\n",
       "        [-0.2819497 ],\n",
       "        [ 0.18962637],\n",
       "        [ 0.08260267],\n",
       "        [ 0.31893456],\n",
       "        [-0.64319336]], dtype=float32),\n",
       " array([0.10180832], dtype=float32)]"
      ]
     },
     "execution_count": 17,
     "metadata": {},
     "output_type": "execute_result"
    }
   ],
   "source": [
    "model.get_weights()"
   ]
  },
  {
   "cell_type": "code",
   "execution_count": 19,
   "metadata": {},
   "outputs": [
    {
     "data": {
      "text/plain": [
       "-0.02690605999729848"
      ]
     },
     "execution_count": 19,
     "metadata": {},
     "output_type": "execute_result"
    }
   ],
   "source": [
    "(np.random.randn(10,10)*0.01).min()"
   ]
  },
  {
   "cell_type": "code",
   "execution_count": 20,
   "metadata": {},
   "outputs": [
    {
     "data": {
      "text/plain": [
       "0.024376055821990955"
      ]
     },
     "execution_count": 20,
     "metadata": {},
     "output_type": "execute_result"
    }
   ],
   "source": [
    "(np.random.randn(10,10)*0.01).max()"
   ]
  },
  {
   "cell_type": "code",
   "execution_count": null,
   "metadata": {},
   "outputs": [],
   "source": []
  }
 ],
 "metadata": {
  "kernelspec": {
   "display_name": "Python 3",
   "language": "python",
   "name": "python3"
  },
  "language_info": {
   "codemirror_mode": {
    "name": "ipython",
    "version": 3
   },
   "file_extension": ".py",
   "mimetype": "text/x-python",
   "name": "python",
   "nbconvert_exporter": "python",
   "pygments_lexer": "ipython3",
   "version": "3.12.3"
  }
 },
 "nbformat": 4,
 "nbformat_minor": 2
}
